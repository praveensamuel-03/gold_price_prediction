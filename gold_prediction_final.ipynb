{
  "nbformat": 4,
  "nbformat_minor": 0,
  "metadata": {
    "colab": {
      "provenance": []
    },
    "kernelspec": {
      "name": "python3",
      "display_name": "Python 3"
    },
    "language_info": {
      "name": "python"
    }
  },
  "cells": [
    {
      "cell_type": "code",
      "execution_count": 98,
      "metadata": {
        "id": "7t5nGxNDg-yC"
      },
      "outputs": [],
      "source": [
        "import numpy as np\n",
        "import pandas as pd\n",
        "import matplotlib.pyplot as plt"
      ]
    },
    {
      "cell_type": "code",
      "source": [
        "data=pd.read_csv('gold.csv')\n",
        "data"
      ],
      "metadata": {
        "colab": {
          "base_uri": "https://localhost:8080/",
          "height": 424
        },
        "id": "aPuMW2hdhn6G",
        "outputId": "747e8505-d846-499f-ee81-d158615f5f77"
      },
      "execution_count": 99,
      "outputs": [
        {
          "output_type": "execute_result",
          "data": {
            "text/plain": [
              "            Date  Close/Last    Volume    Open    High     Low\n",
              "0     10/28/2022      1648.3  186519.0  1667.2  1670.9  1640.7\n",
              "1     10/27/2022      1668.8  180599.0  1668.8  1674.8  1658.5\n",
              "2     10/26/2022      1669.2  183453.0  1657.7  1679.4  1653.8\n",
              "3     10/25/2022      1658.0  178706.0  1654.5  1666.8  1641.2\n",
              "4     10/24/2022      1654.1  167448.0  1662.9  1675.5  1648.0\n",
              "...          ...         ...       ...     ...     ...     ...\n",
              "2542  11/06/2012      1715.0  163585.0  1685.4  1720.9  1683.5\n",
              "2543  11/05/2012      1683.2  109647.0  1676.7  1686.2  1672.5\n",
              "2544  11/02/2012      1675.2  205777.0  1715.6  1717.2  1674.8\n",
              "2545  11/01/2012      1715.5  105904.0  1720.4  1727.5  1715.1\n",
              "2546  10/31/2012      1719.1  110928.0  1710.3  1726.6  1709.8\n",
              "\n",
              "[2547 rows x 6 columns]"
            ],
            "text/html": [
              "\n",
              "  <div id=\"df-ec59c680-20da-4f2f-a6c6-747a5e34dc27\">\n",
              "    <div class=\"colab-df-container\">\n",
              "      <div>\n",
              "<style scoped>\n",
              "    .dataframe tbody tr th:only-of-type {\n",
              "        vertical-align: middle;\n",
              "    }\n",
              "\n",
              "    .dataframe tbody tr th {\n",
              "        vertical-align: top;\n",
              "    }\n",
              "\n",
              "    .dataframe thead th {\n",
              "        text-align: right;\n",
              "    }\n",
              "</style>\n",
              "<table border=\"1\" class=\"dataframe\">\n",
              "  <thead>\n",
              "    <tr style=\"text-align: right;\">\n",
              "      <th></th>\n",
              "      <th>Date</th>\n",
              "      <th>Close/Last</th>\n",
              "      <th>Volume</th>\n",
              "      <th>Open</th>\n",
              "      <th>High</th>\n",
              "      <th>Low</th>\n",
              "    </tr>\n",
              "  </thead>\n",
              "  <tbody>\n",
              "    <tr>\n",
              "      <th>0</th>\n",
              "      <td>10/28/2022</td>\n",
              "      <td>1648.3</td>\n",
              "      <td>186519.0</td>\n",
              "      <td>1667.2</td>\n",
              "      <td>1670.9</td>\n",
              "      <td>1640.7</td>\n",
              "    </tr>\n",
              "    <tr>\n",
              "      <th>1</th>\n",
              "      <td>10/27/2022</td>\n",
              "      <td>1668.8</td>\n",
              "      <td>180599.0</td>\n",
              "      <td>1668.8</td>\n",
              "      <td>1674.8</td>\n",
              "      <td>1658.5</td>\n",
              "    </tr>\n",
              "    <tr>\n",
              "      <th>2</th>\n",
              "      <td>10/26/2022</td>\n",
              "      <td>1669.2</td>\n",
              "      <td>183453.0</td>\n",
              "      <td>1657.7</td>\n",
              "      <td>1679.4</td>\n",
              "      <td>1653.8</td>\n",
              "    </tr>\n",
              "    <tr>\n",
              "      <th>3</th>\n",
              "      <td>10/25/2022</td>\n",
              "      <td>1658.0</td>\n",
              "      <td>178706.0</td>\n",
              "      <td>1654.5</td>\n",
              "      <td>1666.8</td>\n",
              "      <td>1641.2</td>\n",
              "    </tr>\n",
              "    <tr>\n",
              "      <th>4</th>\n",
              "      <td>10/24/2022</td>\n",
              "      <td>1654.1</td>\n",
              "      <td>167448.0</td>\n",
              "      <td>1662.9</td>\n",
              "      <td>1675.5</td>\n",
              "      <td>1648.0</td>\n",
              "    </tr>\n",
              "    <tr>\n",
              "      <th>...</th>\n",
              "      <td>...</td>\n",
              "      <td>...</td>\n",
              "      <td>...</td>\n",
              "      <td>...</td>\n",
              "      <td>...</td>\n",
              "      <td>...</td>\n",
              "    </tr>\n",
              "    <tr>\n",
              "      <th>2542</th>\n",
              "      <td>11/06/2012</td>\n",
              "      <td>1715.0</td>\n",
              "      <td>163585.0</td>\n",
              "      <td>1685.4</td>\n",
              "      <td>1720.9</td>\n",
              "      <td>1683.5</td>\n",
              "    </tr>\n",
              "    <tr>\n",
              "      <th>2543</th>\n",
              "      <td>11/05/2012</td>\n",
              "      <td>1683.2</td>\n",
              "      <td>109647.0</td>\n",
              "      <td>1676.7</td>\n",
              "      <td>1686.2</td>\n",
              "      <td>1672.5</td>\n",
              "    </tr>\n",
              "    <tr>\n",
              "      <th>2544</th>\n",
              "      <td>11/02/2012</td>\n",
              "      <td>1675.2</td>\n",
              "      <td>205777.0</td>\n",
              "      <td>1715.6</td>\n",
              "      <td>1717.2</td>\n",
              "      <td>1674.8</td>\n",
              "    </tr>\n",
              "    <tr>\n",
              "      <th>2545</th>\n",
              "      <td>11/01/2012</td>\n",
              "      <td>1715.5</td>\n",
              "      <td>105904.0</td>\n",
              "      <td>1720.4</td>\n",
              "      <td>1727.5</td>\n",
              "      <td>1715.1</td>\n",
              "    </tr>\n",
              "    <tr>\n",
              "      <th>2546</th>\n",
              "      <td>10/31/2012</td>\n",
              "      <td>1719.1</td>\n",
              "      <td>110928.0</td>\n",
              "      <td>1710.3</td>\n",
              "      <td>1726.6</td>\n",
              "      <td>1709.8</td>\n",
              "    </tr>\n",
              "  </tbody>\n",
              "</table>\n",
              "<p>2547 rows × 6 columns</p>\n",
              "</div>\n",
              "      <button class=\"colab-df-convert\" onclick=\"convertToInteractive('df-ec59c680-20da-4f2f-a6c6-747a5e34dc27')\"\n",
              "              title=\"Convert this dataframe to an interactive table.\"\n",
              "              style=\"display:none;\">\n",
              "        \n",
              "  <svg xmlns=\"http://www.w3.org/2000/svg\" height=\"24px\"viewBox=\"0 0 24 24\"\n",
              "       width=\"24px\">\n",
              "    <path d=\"M0 0h24v24H0V0z\" fill=\"none\"/>\n",
              "    <path d=\"M18.56 5.44l.94 2.06.94-2.06 2.06-.94-2.06-.94-.94-2.06-.94 2.06-2.06.94zm-11 1L8.5 8.5l.94-2.06 2.06-.94-2.06-.94L8.5 2.5l-.94 2.06-2.06.94zm10 10l.94 2.06.94-2.06 2.06-.94-2.06-.94-.94-2.06-.94 2.06-2.06.94z\"/><path d=\"M17.41 7.96l-1.37-1.37c-.4-.4-.92-.59-1.43-.59-.52 0-1.04.2-1.43.59L10.3 9.45l-7.72 7.72c-.78.78-.78 2.05 0 2.83L4 21.41c.39.39.9.59 1.41.59.51 0 1.02-.2 1.41-.59l7.78-7.78 2.81-2.81c.8-.78.8-2.07 0-2.86zM5.41 20L4 18.59l7.72-7.72 1.47 1.35L5.41 20z\"/>\n",
              "  </svg>\n",
              "      </button>\n",
              "      \n",
              "  <style>\n",
              "    .colab-df-container {\n",
              "      display:flex;\n",
              "      flex-wrap:wrap;\n",
              "      gap: 12px;\n",
              "    }\n",
              "\n",
              "    .colab-df-convert {\n",
              "      background-color: #E8F0FE;\n",
              "      border: none;\n",
              "      border-radius: 50%;\n",
              "      cursor: pointer;\n",
              "      display: none;\n",
              "      fill: #1967D2;\n",
              "      height: 32px;\n",
              "      padding: 0 0 0 0;\n",
              "      width: 32px;\n",
              "    }\n",
              "\n",
              "    .colab-df-convert:hover {\n",
              "      background-color: #E2EBFA;\n",
              "      box-shadow: 0px 1px 2px rgba(60, 64, 67, 0.3), 0px 1px 3px 1px rgba(60, 64, 67, 0.15);\n",
              "      fill: #174EA6;\n",
              "    }\n",
              "\n",
              "    [theme=dark] .colab-df-convert {\n",
              "      background-color: #3B4455;\n",
              "      fill: #D2E3FC;\n",
              "    }\n",
              "\n",
              "    [theme=dark] .colab-df-convert:hover {\n",
              "      background-color: #434B5C;\n",
              "      box-shadow: 0px 1px 3px 1px rgba(0, 0, 0, 0.15);\n",
              "      filter: drop-shadow(0px 1px 2px rgba(0, 0, 0, 0.3));\n",
              "      fill: #FFFFFF;\n",
              "    }\n",
              "  </style>\n",
              "\n",
              "      <script>\n",
              "        const buttonEl =\n",
              "          document.querySelector('#df-ec59c680-20da-4f2f-a6c6-747a5e34dc27 button.colab-df-convert');\n",
              "        buttonEl.style.display =\n",
              "          google.colab.kernel.accessAllowed ? 'block' : 'none';\n",
              "\n",
              "        async function convertToInteractive(key) {\n",
              "          const element = document.querySelector('#df-ec59c680-20da-4f2f-a6c6-747a5e34dc27');\n",
              "          const dataTable =\n",
              "            await google.colab.kernel.invokeFunction('convertToInteractive',\n",
              "                                                     [key], {});\n",
              "          if (!dataTable) return;\n",
              "\n",
              "          const docLinkHtml = 'Like what you see? Visit the ' +\n",
              "            '<a target=\"_blank\" href=https://colab.research.google.com/notebooks/data_table.ipynb>data table notebook</a>'\n",
              "            + ' to learn more about interactive tables.';\n",
              "          element.innerHTML = '';\n",
              "          dataTable['output_type'] = 'display_data';\n",
              "          await google.colab.output.renderOutput(dataTable, element);\n",
              "          const docLink = document.createElement('div');\n",
              "          docLink.innerHTML = docLinkHtml;\n",
              "          element.appendChild(docLink);\n",
              "        }\n",
              "      </script>\n",
              "    </div>\n",
              "  </div>\n",
              "  "
            ]
          },
          "metadata": {},
          "execution_count": 99
        }
      ]
    },
    {
      "cell_type": "code",
      "source": [
        "data.columns"
      ],
      "metadata": {
        "colab": {
          "base_uri": "https://localhost:8080/"
        },
        "id": "OQqUEPF2hn1Y",
        "outputId": "5a255747-1afd-4e70-cb52-436a18dd662c"
      },
      "execution_count": 100,
      "outputs": [
        {
          "output_type": "execute_result",
          "data": {
            "text/plain": [
              "Index(['Date', 'Close/Last', 'Volume', 'Open', 'High', 'Low'], dtype='object')"
            ]
          },
          "metadata": {},
          "execution_count": 100
        }
      ]
    },
    {
      "cell_type": "code",
      "source": [
        "data.shape"
      ],
      "metadata": {
        "colab": {
          "base_uri": "https://localhost:8080/"
        },
        "id": "sQenCveThnwy",
        "outputId": "bf93a8e2-9272-4f7b-b7b9-ccf76b8e2a0f"
      },
      "execution_count": 101,
      "outputs": [
        {
          "output_type": "execute_result",
          "data": {
            "text/plain": [
              "(2547, 6)"
            ]
          },
          "metadata": {},
          "execution_count": 101
        }
      ]
    },
    {
      "cell_type": "code",
      "source": [
        "data.info()"
      ],
      "metadata": {
        "colab": {
          "base_uri": "https://localhost:8080/"
        },
        "id": "Wtrx8Vdvhns2",
        "outputId": "3732e058-3bd5-4b0d-8f01-b0b0f2e07215"
      },
      "execution_count": 102,
      "outputs": [
        {
          "output_type": "stream",
          "name": "stdout",
          "text": [
            "<class 'pandas.core.frame.DataFrame'>\n",
            "RangeIndex: 2547 entries, 0 to 2546\n",
            "Data columns (total 6 columns):\n",
            " #   Column      Non-Null Count  Dtype  \n",
            "---  ------      --------------  -----  \n",
            " 0   Date        2547 non-null   object \n",
            " 1   Close/Last  2547 non-null   float64\n",
            " 2   Volume      2508 non-null   float64\n",
            " 3   Open        2547 non-null   float64\n",
            " 4   High        2547 non-null   float64\n",
            " 5   Low         2547 non-null   float64\n",
            "dtypes: float64(5), object(1)\n",
            "memory usage: 119.5+ KB\n"
          ]
        }
      ]
    },
    {
      "cell_type": "code",
      "source": [
        "data.isnull().sum()"
      ],
      "metadata": {
        "colab": {
          "base_uri": "https://localhost:8080/"
        },
        "id": "JT66ZxS4hnpA",
        "outputId": "05e091af-f929-49a6-a876-dd5d5bd6c6dc"
      },
      "execution_count": 103,
      "outputs": [
        {
          "output_type": "execute_result",
          "data": {
            "text/plain": [
              "Date           0\n",
              "Close/Last     0\n",
              "Volume        39\n",
              "Open           0\n",
              "High           0\n",
              "Low            0\n",
              "dtype: int64"
            ]
          },
          "metadata": {},
          "execution_count": 103
        }
      ]
    },
    {
      "cell_type": "code",
      "source": [
        "data=data.dropna(axis=1)"
      ],
      "metadata": {
        "id": "ooZayBPPkSm6"
      },
      "execution_count": 104,
      "outputs": []
    },
    {
      "cell_type": "code",
      "source": [
        "# Converting date datatype\n",
        "data['Date']=pd.to_datetime(data['Date'])"
      ],
      "metadata": {
        "colab": {
          "base_uri": "https://localhost:8080/"
        },
        "id": "0RkzZwu2hnlP",
        "outputId": "811e2513-799d-45eb-8c6a-059533390c1f"
      },
      "execution_count": 105,
      "outputs": [
        {
          "output_type": "stream",
          "name": "stderr",
          "text": [
            "<ipython-input-105-5fee5c017be9>:2: SettingWithCopyWarning: \n",
            "A value is trying to be set on a copy of a slice from a DataFrame.\n",
            "Try using .loc[row_indexer,col_indexer] = value instead\n",
            "\n",
            "See the caveats in the documentation: https://pandas.pydata.org/pandas-docs/stable/user_guide/indexing.html#returning-a-view-versus-a-copy\n",
            "  data['Date']=pd.to_datetime(data['Date'])\n"
          ]
        }
      ]
    },
    {
      "cell_type": "code",
      "source": [
        "data['date_year']=data['Date'].dt.year\n",
        "data"
      ],
      "metadata": {
        "colab": {
          "base_uri": "https://localhost:8080/",
          "height": 424
        },
        "id": "btjQkXZzhnhy",
        "outputId": "65c564fb-80cc-4411-dd8d-5caf04cd4bc0"
      },
      "execution_count": 106,
      "outputs": [
        {
          "output_type": "execute_result",
          "data": {
            "text/plain": [
              "           Date  Close/Last    Open    High     Low  date_year\n",
              "0    2022-10-28      1648.3  1667.2  1670.9  1640.7       2022\n",
              "1    2022-10-27      1668.8  1668.8  1674.8  1658.5       2022\n",
              "2    2022-10-26      1669.2  1657.7  1679.4  1653.8       2022\n",
              "3    2022-10-25      1658.0  1654.5  1666.8  1641.2       2022\n",
              "4    2022-10-24      1654.1  1662.9  1675.5  1648.0       2022\n",
              "...         ...         ...     ...     ...     ...        ...\n",
              "2542 2012-11-06      1715.0  1685.4  1720.9  1683.5       2012\n",
              "2543 2012-11-05      1683.2  1676.7  1686.2  1672.5       2012\n",
              "2544 2012-11-02      1675.2  1715.6  1717.2  1674.8       2012\n",
              "2545 2012-11-01      1715.5  1720.4  1727.5  1715.1       2012\n",
              "2546 2012-10-31      1719.1  1710.3  1726.6  1709.8       2012\n",
              "\n",
              "[2547 rows x 6 columns]"
            ],
            "text/html": [
              "\n",
              "  <div id=\"df-17d8f40d-72db-4064-a811-ffb90ecbc3dc\">\n",
              "    <div class=\"colab-df-container\">\n",
              "      <div>\n",
              "<style scoped>\n",
              "    .dataframe tbody tr th:only-of-type {\n",
              "        vertical-align: middle;\n",
              "    }\n",
              "\n",
              "    .dataframe tbody tr th {\n",
              "        vertical-align: top;\n",
              "    }\n",
              "\n",
              "    .dataframe thead th {\n",
              "        text-align: right;\n",
              "    }\n",
              "</style>\n",
              "<table border=\"1\" class=\"dataframe\">\n",
              "  <thead>\n",
              "    <tr style=\"text-align: right;\">\n",
              "      <th></th>\n",
              "      <th>Date</th>\n",
              "      <th>Close/Last</th>\n",
              "      <th>Open</th>\n",
              "      <th>High</th>\n",
              "      <th>Low</th>\n",
              "      <th>date_year</th>\n",
              "    </tr>\n",
              "  </thead>\n",
              "  <tbody>\n",
              "    <tr>\n",
              "      <th>0</th>\n",
              "      <td>2022-10-28</td>\n",
              "      <td>1648.3</td>\n",
              "      <td>1667.2</td>\n",
              "      <td>1670.9</td>\n",
              "      <td>1640.7</td>\n",
              "      <td>2022</td>\n",
              "    </tr>\n",
              "    <tr>\n",
              "      <th>1</th>\n",
              "      <td>2022-10-27</td>\n",
              "      <td>1668.8</td>\n",
              "      <td>1668.8</td>\n",
              "      <td>1674.8</td>\n",
              "      <td>1658.5</td>\n",
              "      <td>2022</td>\n",
              "    </tr>\n",
              "    <tr>\n",
              "      <th>2</th>\n",
              "      <td>2022-10-26</td>\n",
              "      <td>1669.2</td>\n",
              "      <td>1657.7</td>\n",
              "      <td>1679.4</td>\n",
              "      <td>1653.8</td>\n",
              "      <td>2022</td>\n",
              "    </tr>\n",
              "    <tr>\n",
              "      <th>3</th>\n",
              "      <td>2022-10-25</td>\n",
              "      <td>1658.0</td>\n",
              "      <td>1654.5</td>\n",
              "      <td>1666.8</td>\n",
              "      <td>1641.2</td>\n",
              "      <td>2022</td>\n",
              "    </tr>\n",
              "    <tr>\n",
              "      <th>4</th>\n",
              "      <td>2022-10-24</td>\n",
              "      <td>1654.1</td>\n",
              "      <td>1662.9</td>\n",
              "      <td>1675.5</td>\n",
              "      <td>1648.0</td>\n",
              "      <td>2022</td>\n",
              "    </tr>\n",
              "    <tr>\n",
              "      <th>...</th>\n",
              "      <td>...</td>\n",
              "      <td>...</td>\n",
              "      <td>...</td>\n",
              "      <td>...</td>\n",
              "      <td>...</td>\n",
              "      <td>...</td>\n",
              "    </tr>\n",
              "    <tr>\n",
              "      <th>2542</th>\n",
              "      <td>2012-11-06</td>\n",
              "      <td>1715.0</td>\n",
              "      <td>1685.4</td>\n",
              "      <td>1720.9</td>\n",
              "      <td>1683.5</td>\n",
              "      <td>2012</td>\n",
              "    </tr>\n",
              "    <tr>\n",
              "      <th>2543</th>\n",
              "      <td>2012-11-05</td>\n",
              "      <td>1683.2</td>\n",
              "      <td>1676.7</td>\n",
              "      <td>1686.2</td>\n",
              "      <td>1672.5</td>\n",
              "      <td>2012</td>\n",
              "    </tr>\n",
              "    <tr>\n",
              "      <th>2544</th>\n",
              "      <td>2012-11-02</td>\n",
              "      <td>1675.2</td>\n",
              "      <td>1715.6</td>\n",
              "      <td>1717.2</td>\n",
              "      <td>1674.8</td>\n",
              "      <td>2012</td>\n",
              "    </tr>\n",
              "    <tr>\n",
              "      <th>2545</th>\n",
              "      <td>2012-11-01</td>\n",
              "      <td>1715.5</td>\n",
              "      <td>1720.4</td>\n",
              "      <td>1727.5</td>\n",
              "      <td>1715.1</td>\n",
              "      <td>2012</td>\n",
              "    </tr>\n",
              "    <tr>\n",
              "      <th>2546</th>\n",
              "      <td>2012-10-31</td>\n",
              "      <td>1719.1</td>\n",
              "      <td>1710.3</td>\n",
              "      <td>1726.6</td>\n",
              "      <td>1709.8</td>\n",
              "      <td>2012</td>\n",
              "    </tr>\n",
              "  </tbody>\n",
              "</table>\n",
              "<p>2547 rows × 6 columns</p>\n",
              "</div>\n",
              "      <button class=\"colab-df-convert\" onclick=\"convertToInteractive('df-17d8f40d-72db-4064-a811-ffb90ecbc3dc')\"\n",
              "              title=\"Convert this dataframe to an interactive table.\"\n",
              "              style=\"display:none;\">\n",
              "        \n",
              "  <svg xmlns=\"http://www.w3.org/2000/svg\" height=\"24px\"viewBox=\"0 0 24 24\"\n",
              "       width=\"24px\">\n",
              "    <path d=\"M0 0h24v24H0V0z\" fill=\"none\"/>\n",
              "    <path d=\"M18.56 5.44l.94 2.06.94-2.06 2.06-.94-2.06-.94-.94-2.06-.94 2.06-2.06.94zm-11 1L8.5 8.5l.94-2.06 2.06-.94-2.06-.94L8.5 2.5l-.94 2.06-2.06.94zm10 10l.94 2.06.94-2.06 2.06-.94-2.06-.94-.94-2.06-.94 2.06-2.06.94z\"/><path d=\"M17.41 7.96l-1.37-1.37c-.4-.4-.92-.59-1.43-.59-.52 0-1.04.2-1.43.59L10.3 9.45l-7.72 7.72c-.78.78-.78 2.05 0 2.83L4 21.41c.39.39.9.59 1.41.59.51 0 1.02-.2 1.41-.59l7.78-7.78 2.81-2.81c.8-.78.8-2.07 0-2.86zM5.41 20L4 18.59l7.72-7.72 1.47 1.35L5.41 20z\"/>\n",
              "  </svg>\n",
              "      </button>\n",
              "      \n",
              "  <style>\n",
              "    .colab-df-container {\n",
              "      display:flex;\n",
              "      flex-wrap:wrap;\n",
              "      gap: 12px;\n",
              "    }\n",
              "\n",
              "    .colab-df-convert {\n",
              "      background-color: #E8F0FE;\n",
              "      border: none;\n",
              "      border-radius: 50%;\n",
              "      cursor: pointer;\n",
              "      display: none;\n",
              "      fill: #1967D2;\n",
              "      height: 32px;\n",
              "      padding: 0 0 0 0;\n",
              "      width: 32px;\n",
              "    }\n",
              "\n",
              "    .colab-df-convert:hover {\n",
              "      background-color: #E2EBFA;\n",
              "      box-shadow: 0px 1px 2px rgba(60, 64, 67, 0.3), 0px 1px 3px 1px rgba(60, 64, 67, 0.15);\n",
              "      fill: #174EA6;\n",
              "    }\n",
              "\n",
              "    [theme=dark] .colab-df-convert {\n",
              "      background-color: #3B4455;\n",
              "      fill: #D2E3FC;\n",
              "    }\n",
              "\n",
              "    [theme=dark] .colab-df-convert:hover {\n",
              "      background-color: #434B5C;\n",
              "      box-shadow: 0px 1px 3px 1px rgba(0, 0, 0, 0.15);\n",
              "      filter: drop-shadow(0px 1px 2px rgba(0, 0, 0, 0.3));\n",
              "      fill: #FFFFFF;\n",
              "    }\n",
              "  </style>\n",
              "\n",
              "      <script>\n",
              "        const buttonEl =\n",
              "          document.querySelector('#df-17d8f40d-72db-4064-a811-ffb90ecbc3dc button.colab-df-convert');\n",
              "        buttonEl.style.display =\n",
              "          google.colab.kernel.accessAllowed ? 'block' : 'none';\n",
              "\n",
              "        async function convertToInteractive(key) {\n",
              "          const element = document.querySelector('#df-17d8f40d-72db-4064-a811-ffb90ecbc3dc');\n",
              "          const dataTable =\n",
              "            await google.colab.kernel.invokeFunction('convertToInteractive',\n",
              "                                                     [key], {});\n",
              "          if (!dataTable) return;\n",
              "\n",
              "          const docLinkHtml = 'Like what you see? Visit the ' +\n",
              "            '<a target=\"_blank\" href=https://colab.research.google.com/notebooks/data_table.ipynb>data table notebook</a>'\n",
              "            + ' to learn more about interactive tables.';\n",
              "          element.innerHTML = '';\n",
              "          dataTable['output_type'] = 'display_data';\n",
              "          await google.colab.output.renderOutput(dataTable, element);\n",
              "          const docLink = document.createElement('div');\n",
              "          docLink.innerHTML = docLinkHtml;\n",
              "          element.appendChild(docLink);\n",
              "        }\n",
              "      </script>\n",
              "    </div>\n",
              "  </div>\n",
              "  "
            ]
          },
          "metadata": {},
          "execution_count": 106
        }
      ]
    },
    {
      "cell_type": "code",
      "source": [
        "data['date_month']=data['Date'].dt.month\n",
        "data"
      ],
      "metadata": {
        "colab": {
          "base_uri": "https://localhost:8080/",
          "height": 424
        },
        "id": "hxOKpHy0hneK",
        "outputId": "397719e2-b2b3-4543-94da-641da5a2597c"
      },
      "execution_count": 107,
      "outputs": [
        {
          "output_type": "execute_result",
          "data": {
            "text/plain": [
              "           Date  Close/Last    Open    High     Low  date_year  date_month\n",
              "0    2022-10-28      1648.3  1667.2  1670.9  1640.7       2022          10\n",
              "1    2022-10-27      1668.8  1668.8  1674.8  1658.5       2022          10\n",
              "2    2022-10-26      1669.2  1657.7  1679.4  1653.8       2022          10\n",
              "3    2022-10-25      1658.0  1654.5  1666.8  1641.2       2022          10\n",
              "4    2022-10-24      1654.1  1662.9  1675.5  1648.0       2022          10\n",
              "...         ...         ...     ...     ...     ...        ...         ...\n",
              "2542 2012-11-06      1715.0  1685.4  1720.9  1683.5       2012          11\n",
              "2543 2012-11-05      1683.2  1676.7  1686.2  1672.5       2012          11\n",
              "2544 2012-11-02      1675.2  1715.6  1717.2  1674.8       2012          11\n",
              "2545 2012-11-01      1715.5  1720.4  1727.5  1715.1       2012          11\n",
              "2546 2012-10-31      1719.1  1710.3  1726.6  1709.8       2012          10\n",
              "\n",
              "[2547 rows x 7 columns]"
            ],
            "text/html": [
              "\n",
              "  <div id=\"df-807d0cb4-25e6-4e14-b99e-714339d3a488\">\n",
              "    <div class=\"colab-df-container\">\n",
              "      <div>\n",
              "<style scoped>\n",
              "    .dataframe tbody tr th:only-of-type {\n",
              "        vertical-align: middle;\n",
              "    }\n",
              "\n",
              "    .dataframe tbody tr th {\n",
              "        vertical-align: top;\n",
              "    }\n",
              "\n",
              "    .dataframe thead th {\n",
              "        text-align: right;\n",
              "    }\n",
              "</style>\n",
              "<table border=\"1\" class=\"dataframe\">\n",
              "  <thead>\n",
              "    <tr style=\"text-align: right;\">\n",
              "      <th></th>\n",
              "      <th>Date</th>\n",
              "      <th>Close/Last</th>\n",
              "      <th>Open</th>\n",
              "      <th>High</th>\n",
              "      <th>Low</th>\n",
              "      <th>date_year</th>\n",
              "      <th>date_month</th>\n",
              "    </tr>\n",
              "  </thead>\n",
              "  <tbody>\n",
              "    <tr>\n",
              "      <th>0</th>\n",
              "      <td>2022-10-28</td>\n",
              "      <td>1648.3</td>\n",
              "      <td>1667.2</td>\n",
              "      <td>1670.9</td>\n",
              "      <td>1640.7</td>\n",
              "      <td>2022</td>\n",
              "      <td>10</td>\n",
              "    </tr>\n",
              "    <tr>\n",
              "      <th>1</th>\n",
              "      <td>2022-10-27</td>\n",
              "      <td>1668.8</td>\n",
              "      <td>1668.8</td>\n",
              "      <td>1674.8</td>\n",
              "      <td>1658.5</td>\n",
              "      <td>2022</td>\n",
              "      <td>10</td>\n",
              "    </tr>\n",
              "    <tr>\n",
              "      <th>2</th>\n",
              "      <td>2022-10-26</td>\n",
              "      <td>1669.2</td>\n",
              "      <td>1657.7</td>\n",
              "      <td>1679.4</td>\n",
              "      <td>1653.8</td>\n",
              "      <td>2022</td>\n",
              "      <td>10</td>\n",
              "    </tr>\n",
              "    <tr>\n",
              "      <th>3</th>\n",
              "      <td>2022-10-25</td>\n",
              "      <td>1658.0</td>\n",
              "      <td>1654.5</td>\n",
              "      <td>1666.8</td>\n",
              "      <td>1641.2</td>\n",
              "      <td>2022</td>\n",
              "      <td>10</td>\n",
              "    </tr>\n",
              "    <tr>\n",
              "      <th>4</th>\n",
              "      <td>2022-10-24</td>\n",
              "      <td>1654.1</td>\n",
              "      <td>1662.9</td>\n",
              "      <td>1675.5</td>\n",
              "      <td>1648.0</td>\n",
              "      <td>2022</td>\n",
              "      <td>10</td>\n",
              "    </tr>\n",
              "    <tr>\n",
              "      <th>...</th>\n",
              "      <td>...</td>\n",
              "      <td>...</td>\n",
              "      <td>...</td>\n",
              "      <td>...</td>\n",
              "      <td>...</td>\n",
              "      <td>...</td>\n",
              "      <td>...</td>\n",
              "    </tr>\n",
              "    <tr>\n",
              "      <th>2542</th>\n",
              "      <td>2012-11-06</td>\n",
              "      <td>1715.0</td>\n",
              "      <td>1685.4</td>\n",
              "      <td>1720.9</td>\n",
              "      <td>1683.5</td>\n",
              "      <td>2012</td>\n",
              "      <td>11</td>\n",
              "    </tr>\n",
              "    <tr>\n",
              "      <th>2543</th>\n",
              "      <td>2012-11-05</td>\n",
              "      <td>1683.2</td>\n",
              "      <td>1676.7</td>\n",
              "      <td>1686.2</td>\n",
              "      <td>1672.5</td>\n",
              "      <td>2012</td>\n",
              "      <td>11</td>\n",
              "    </tr>\n",
              "    <tr>\n",
              "      <th>2544</th>\n",
              "      <td>2012-11-02</td>\n",
              "      <td>1675.2</td>\n",
              "      <td>1715.6</td>\n",
              "      <td>1717.2</td>\n",
              "      <td>1674.8</td>\n",
              "      <td>2012</td>\n",
              "      <td>11</td>\n",
              "    </tr>\n",
              "    <tr>\n",
              "      <th>2545</th>\n",
              "      <td>2012-11-01</td>\n",
              "      <td>1715.5</td>\n",
              "      <td>1720.4</td>\n",
              "      <td>1727.5</td>\n",
              "      <td>1715.1</td>\n",
              "      <td>2012</td>\n",
              "      <td>11</td>\n",
              "    </tr>\n",
              "    <tr>\n",
              "      <th>2546</th>\n",
              "      <td>2012-10-31</td>\n",
              "      <td>1719.1</td>\n",
              "      <td>1710.3</td>\n",
              "      <td>1726.6</td>\n",
              "      <td>1709.8</td>\n",
              "      <td>2012</td>\n",
              "      <td>10</td>\n",
              "    </tr>\n",
              "  </tbody>\n",
              "</table>\n",
              "<p>2547 rows × 7 columns</p>\n",
              "</div>\n",
              "      <button class=\"colab-df-convert\" onclick=\"convertToInteractive('df-807d0cb4-25e6-4e14-b99e-714339d3a488')\"\n",
              "              title=\"Convert this dataframe to an interactive table.\"\n",
              "              style=\"display:none;\">\n",
              "        \n",
              "  <svg xmlns=\"http://www.w3.org/2000/svg\" height=\"24px\"viewBox=\"0 0 24 24\"\n",
              "       width=\"24px\">\n",
              "    <path d=\"M0 0h24v24H0V0z\" fill=\"none\"/>\n",
              "    <path d=\"M18.56 5.44l.94 2.06.94-2.06 2.06-.94-2.06-.94-.94-2.06-.94 2.06-2.06.94zm-11 1L8.5 8.5l.94-2.06 2.06-.94-2.06-.94L8.5 2.5l-.94 2.06-2.06.94zm10 10l.94 2.06.94-2.06 2.06-.94-2.06-.94-.94-2.06-.94 2.06-2.06.94z\"/><path d=\"M17.41 7.96l-1.37-1.37c-.4-.4-.92-.59-1.43-.59-.52 0-1.04.2-1.43.59L10.3 9.45l-7.72 7.72c-.78.78-.78 2.05 0 2.83L4 21.41c.39.39.9.59 1.41.59.51 0 1.02-.2 1.41-.59l7.78-7.78 2.81-2.81c.8-.78.8-2.07 0-2.86zM5.41 20L4 18.59l7.72-7.72 1.47 1.35L5.41 20z\"/>\n",
              "  </svg>\n",
              "      </button>\n",
              "      \n",
              "  <style>\n",
              "    .colab-df-container {\n",
              "      display:flex;\n",
              "      flex-wrap:wrap;\n",
              "      gap: 12px;\n",
              "    }\n",
              "\n",
              "    .colab-df-convert {\n",
              "      background-color: #E8F0FE;\n",
              "      border: none;\n",
              "      border-radius: 50%;\n",
              "      cursor: pointer;\n",
              "      display: none;\n",
              "      fill: #1967D2;\n",
              "      height: 32px;\n",
              "      padding: 0 0 0 0;\n",
              "      width: 32px;\n",
              "    }\n",
              "\n",
              "    .colab-df-convert:hover {\n",
              "      background-color: #E2EBFA;\n",
              "      box-shadow: 0px 1px 2px rgba(60, 64, 67, 0.3), 0px 1px 3px 1px rgba(60, 64, 67, 0.15);\n",
              "      fill: #174EA6;\n",
              "    }\n",
              "\n",
              "    [theme=dark] .colab-df-convert {\n",
              "      background-color: #3B4455;\n",
              "      fill: #D2E3FC;\n",
              "    }\n",
              "\n",
              "    [theme=dark] .colab-df-convert:hover {\n",
              "      background-color: #434B5C;\n",
              "      box-shadow: 0px 1px 3px 1px rgba(0, 0, 0, 0.15);\n",
              "      filter: drop-shadow(0px 1px 2px rgba(0, 0, 0, 0.3));\n",
              "      fill: #FFFFFF;\n",
              "    }\n",
              "  </style>\n",
              "\n",
              "      <script>\n",
              "        const buttonEl =\n",
              "          document.querySelector('#df-807d0cb4-25e6-4e14-b99e-714339d3a488 button.colab-df-convert');\n",
              "        buttonEl.style.display =\n",
              "          google.colab.kernel.accessAllowed ? 'block' : 'none';\n",
              "\n",
              "        async function convertToInteractive(key) {\n",
              "          const element = document.querySelector('#df-807d0cb4-25e6-4e14-b99e-714339d3a488');\n",
              "          const dataTable =\n",
              "            await google.colab.kernel.invokeFunction('convertToInteractive',\n",
              "                                                     [key], {});\n",
              "          if (!dataTable) return;\n",
              "\n",
              "          const docLinkHtml = 'Like what you see? Visit the ' +\n",
              "            '<a target=\"_blank\" href=https://colab.research.google.com/notebooks/data_table.ipynb>data table notebook</a>'\n",
              "            + ' to learn more about interactive tables.';\n",
              "          element.innerHTML = '';\n",
              "          dataTable['output_type'] = 'display_data';\n",
              "          await google.colab.output.renderOutput(dataTable, element);\n",
              "          const docLink = document.createElement('div');\n",
              "          docLink.innerHTML = docLinkHtml;\n",
              "          element.appendChild(docLink);\n",
              "        }\n",
              "      </script>\n",
              "    </div>\n",
              "  </div>\n",
              "  "
            ]
          },
          "metadata": {},
          "execution_count": 107
        }
      ]
    },
    {
      "cell_type": "code",
      "source": [
        "data['date_day']=data['Date'].dt.day\n",
        "data"
      ],
      "metadata": {
        "colab": {
          "base_uri": "https://localhost:8080/",
          "height": 424
        },
        "id": "DLQvQtU2hnaU",
        "outputId": "4d6c23f2-b207-4b1e-f572-b7060f852a80"
      },
      "execution_count": 108,
      "outputs": [
        {
          "output_type": "execute_result",
          "data": {
            "text/plain": [
              "           Date  Close/Last    Open    High     Low  date_year  date_month  \\\n",
              "0    2022-10-28      1648.3  1667.2  1670.9  1640.7       2022          10   \n",
              "1    2022-10-27      1668.8  1668.8  1674.8  1658.5       2022          10   \n",
              "2    2022-10-26      1669.2  1657.7  1679.4  1653.8       2022          10   \n",
              "3    2022-10-25      1658.0  1654.5  1666.8  1641.2       2022          10   \n",
              "4    2022-10-24      1654.1  1662.9  1675.5  1648.0       2022          10   \n",
              "...         ...         ...     ...     ...     ...        ...         ...   \n",
              "2542 2012-11-06      1715.0  1685.4  1720.9  1683.5       2012          11   \n",
              "2543 2012-11-05      1683.2  1676.7  1686.2  1672.5       2012          11   \n",
              "2544 2012-11-02      1675.2  1715.6  1717.2  1674.8       2012          11   \n",
              "2545 2012-11-01      1715.5  1720.4  1727.5  1715.1       2012          11   \n",
              "2546 2012-10-31      1719.1  1710.3  1726.6  1709.8       2012          10   \n",
              "\n",
              "      date_day  \n",
              "0           28  \n",
              "1           27  \n",
              "2           26  \n",
              "3           25  \n",
              "4           24  \n",
              "...        ...  \n",
              "2542         6  \n",
              "2543         5  \n",
              "2544         2  \n",
              "2545         1  \n",
              "2546        31  \n",
              "\n",
              "[2547 rows x 8 columns]"
            ],
            "text/html": [
              "\n",
              "  <div id=\"df-d7d68f89-bb01-4b97-b023-da7f0845658f\">\n",
              "    <div class=\"colab-df-container\">\n",
              "      <div>\n",
              "<style scoped>\n",
              "    .dataframe tbody tr th:only-of-type {\n",
              "        vertical-align: middle;\n",
              "    }\n",
              "\n",
              "    .dataframe tbody tr th {\n",
              "        vertical-align: top;\n",
              "    }\n",
              "\n",
              "    .dataframe thead th {\n",
              "        text-align: right;\n",
              "    }\n",
              "</style>\n",
              "<table border=\"1\" class=\"dataframe\">\n",
              "  <thead>\n",
              "    <tr style=\"text-align: right;\">\n",
              "      <th></th>\n",
              "      <th>Date</th>\n",
              "      <th>Close/Last</th>\n",
              "      <th>Open</th>\n",
              "      <th>High</th>\n",
              "      <th>Low</th>\n",
              "      <th>date_year</th>\n",
              "      <th>date_month</th>\n",
              "      <th>date_day</th>\n",
              "    </tr>\n",
              "  </thead>\n",
              "  <tbody>\n",
              "    <tr>\n",
              "      <th>0</th>\n",
              "      <td>2022-10-28</td>\n",
              "      <td>1648.3</td>\n",
              "      <td>1667.2</td>\n",
              "      <td>1670.9</td>\n",
              "      <td>1640.7</td>\n",
              "      <td>2022</td>\n",
              "      <td>10</td>\n",
              "      <td>28</td>\n",
              "    </tr>\n",
              "    <tr>\n",
              "      <th>1</th>\n",
              "      <td>2022-10-27</td>\n",
              "      <td>1668.8</td>\n",
              "      <td>1668.8</td>\n",
              "      <td>1674.8</td>\n",
              "      <td>1658.5</td>\n",
              "      <td>2022</td>\n",
              "      <td>10</td>\n",
              "      <td>27</td>\n",
              "    </tr>\n",
              "    <tr>\n",
              "      <th>2</th>\n",
              "      <td>2022-10-26</td>\n",
              "      <td>1669.2</td>\n",
              "      <td>1657.7</td>\n",
              "      <td>1679.4</td>\n",
              "      <td>1653.8</td>\n",
              "      <td>2022</td>\n",
              "      <td>10</td>\n",
              "      <td>26</td>\n",
              "    </tr>\n",
              "    <tr>\n",
              "      <th>3</th>\n",
              "      <td>2022-10-25</td>\n",
              "      <td>1658.0</td>\n",
              "      <td>1654.5</td>\n",
              "      <td>1666.8</td>\n",
              "      <td>1641.2</td>\n",
              "      <td>2022</td>\n",
              "      <td>10</td>\n",
              "      <td>25</td>\n",
              "    </tr>\n",
              "    <tr>\n",
              "      <th>4</th>\n",
              "      <td>2022-10-24</td>\n",
              "      <td>1654.1</td>\n",
              "      <td>1662.9</td>\n",
              "      <td>1675.5</td>\n",
              "      <td>1648.0</td>\n",
              "      <td>2022</td>\n",
              "      <td>10</td>\n",
              "      <td>24</td>\n",
              "    </tr>\n",
              "    <tr>\n",
              "      <th>...</th>\n",
              "      <td>...</td>\n",
              "      <td>...</td>\n",
              "      <td>...</td>\n",
              "      <td>...</td>\n",
              "      <td>...</td>\n",
              "      <td>...</td>\n",
              "      <td>...</td>\n",
              "      <td>...</td>\n",
              "    </tr>\n",
              "    <tr>\n",
              "      <th>2542</th>\n",
              "      <td>2012-11-06</td>\n",
              "      <td>1715.0</td>\n",
              "      <td>1685.4</td>\n",
              "      <td>1720.9</td>\n",
              "      <td>1683.5</td>\n",
              "      <td>2012</td>\n",
              "      <td>11</td>\n",
              "      <td>6</td>\n",
              "    </tr>\n",
              "    <tr>\n",
              "      <th>2543</th>\n",
              "      <td>2012-11-05</td>\n",
              "      <td>1683.2</td>\n",
              "      <td>1676.7</td>\n",
              "      <td>1686.2</td>\n",
              "      <td>1672.5</td>\n",
              "      <td>2012</td>\n",
              "      <td>11</td>\n",
              "      <td>5</td>\n",
              "    </tr>\n",
              "    <tr>\n",
              "      <th>2544</th>\n",
              "      <td>2012-11-02</td>\n",
              "      <td>1675.2</td>\n",
              "      <td>1715.6</td>\n",
              "      <td>1717.2</td>\n",
              "      <td>1674.8</td>\n",
              "      <td>2012</td>\n",
              "      <td>11</td>\n",
              "      <td>2</td>\n",
              "    </tr>\n",
              "    <tr>\n",
              "      <th>2545</th>\n",
              "      <td>2012-11-01</td>\n",
              "      <td>1715.5</td>\n",
              "      <td>1720.4</td>\n",
              "      <td>1727.5</td>\n",
              "      <td>1715.1</td>\n",
              "      <td>2012</td>\n",
              "      <td>11</td>\n",
              "      <td>1</td>\n",
              "    </tr>\n",
              "    <tr>\n",
              "      <th>2546</th>\n",
              "      <td>2012-10-31</td>\n",
              "      <td>1719.1</td>\n",
              "      <td>1710.3</td>\n",
              "      <td>1726.6</td>\n",
              "      <td>1709.8</td>\n",
              "      <td>2012</td>\n",
              "      <td>10</td>\n",
              "      <td>31</td>\n",
              "    </tr>\n",
              "  </tbody>\n",
              "</table>\n",
              "<p>2547 rows × 8 columns</p>\n",
              "</div>\n",
              "      <button class=\"colab-df-convert\" onclick=\"convertToInteractive('df-d7d68f89-bb01-4b97-b023-da7f0845658f')\"\n",
              "              title=\"Convert this dataframe to an interactive table.\"\n",
              "              style=\"display:none;\">\n",
              "        \n",
              "  <svg xmlns=\"http://www.w3.org/2000/svg\" height=\"24px\"viewBox=\"0 0 24 24\"\n",
              "       width=\"24px\">\n",
              "    <path d=\"M0 0h24v24H0V0z\" fill=\"none\"/>\n",
              "    <path d=\"M18.56 5.44l.94 2.06.94-2.06 2.06-.94-2.06-.94-.94-2.06-.94 2.06-2.06.94zm-11 1L8.5 8.5l.94-2.06 2.06-.94-2.06-.94L8.5 2.5l-.94 2.06-2.06.94zm10 10l.94 2.06.94-2.06 2.06-.94-2.06-.94-.94-2.06-.94 2.06-2.06.94z\"/><path d=\"M17.41 7.96l-1.37-1.37c-.4-.4-.92-.59-1.43-.59-.52 0-1.04.2-1.43.59L10.3 9.45l-7.72 7.72c-.78.78-.78 2.05 0 2.83L4 21.41c.39.39.9.59 1.41.59.51 0 1.02-.2 1.41-.59l7.78-7.78 2.81-2.81c.8-.78.8-2.07 0-2.86zM5.41 20L4 18.59l7.72-7.72 1.47 1.35L5.41 20z\"/>\n",
              "  </svg>\n",
              "      </button>\n",
              "      \n",
              "  <style>\n",
              "    .colab-df-container {\n",
              "      display:flex;\n",
              "      flex-wrap:wrap;\n",
              "      gap: 12px;\n",
              "    }\n",
              "\n",
              "    .colab-df-convert {\n",
              "      background-color: #E8F0FE;\n",
              "      border: none;\n",
              "      border-radius: 50%;\n",
              "      cursor: pointer;\n",
              "      display: none;\n",
              "      fill: #1967D2;\n",
              "      height: 32px;\n",
              "      padding: 0 0 0 0;\n",
              "      width: 32px;\n",
              "    }\n",
              "\n",
              "    .colab-df-convert:hover {\n",
              "      background-color: #E2EBFA;\n",
              "      box-shadow: 0px 1px 2px rgba(60, 64, 67, 0.3), 0px 1px 3px 1px rgba(60, 64, 67, 0.15);\n",
              "      fill: #174EA6;\n",
              "    }\n",
              "\n",
              "    [theme=dark] .colab-df-convert {\n",
              "      background-color: #3B4455;\n",
              "      fill: #D2E3FC;\n",
              "    }\n",
              "\n",
              "    [theme=dark] .colab-df-convert:hover {\n",
              "      background-color: #434B5C;\n",
              "      box-shadow: 0px 1px 3px 1px rgba(0, 0, 0, 0.15);\n",
              "      filter: drop-shadow(0px 1px 2px rgba(0, 0, 0, 0.3));\n",
              "      fill: #FFFFFF;\n",
              "    }\n",
              "  </style>\n",
              "\n",
              "      <script>\n",
              "        const buttonEl =\n",
              "          document.querySelector('#df-d7d68f89-bb01-4b97-b023-da7f0845658f button.colab-df-convert');\n",
              "        buttonEl.style.display =\n",
              "          google.colab.kernel.accessAllowed ? 'block' : 'none';\n",
              "\n",
              "        async function convertToInteractive(key) {\n",
              "          const element = document.querySelector('#df-d7d68f89-bb01-4b97-b023-da7f0845658f');\n",
              "          const dataTable =\n",
              "            await google.colab.kernel.invokeFunction('convertToInteractive',\n",
              "                                                     [key], {});\n",
              "          if (!dataTable) return;\n",
              "\n",
              "          const docLinkHtml = 'Like what you see? Visit the ' +\n",
              "            '<a target=\"_blank\" href=https://colab.research.google.com/notebooks/data_table.ipynb>data table notebook</a>'\n",
              "            + ' to learn more about interactive tables.';\n",
              "          element.innerHTML = '';\n",
              "          dataTable['output_type'] = 'display_data';\n",
              "          await google.colab.output.renderOutput(dataTable, element);\n",
              "          const docLink = document.createElement('div');\n",
              "          docLink.innerHTML = docLinkHtml;\n",
              "          element.appendChild(docLink);\n",
              "        }\n",
              "      </script>\n",
              "    </div>\n",
              "  </div>\n",
              "  "
            ]
          },
          "metadata": {},
          "execution_count": 108
        }
      ]
    },
    {
      "cell_type": "code",
      "source": [
        "data.drop('Date', axis=1, inplace=True)"
      ],
      "metadata": {
        "id": "2DxB5S7VhnR9"
      },
      "execution_count": 109,
      "outputs": []
    },
    {
      "cell_type": "code",
      "source": [
        "data.columns"
      ],
      "metadata": {
        "colab": {
          "base_uri": "https://localhost:8080/"
        },
        "id": "nI8xf5CEhnJY",
        "outputId": "57162952-80a1-49f9-ee9f-2831d7569c19"
      },
      "execution_count": 110,
      "outputs": [
        {
          "output_type": "execute_result",
          "data": {
            "text/plain": [
              "Index(['Close/Last', 'Open', 'High', 'Low', 'date_year', 'date_month',\n",
              "       'date_day'],\n",
              "      dtype='object')"
            ]
          },
          "metadata": {},
          "execution_count": 110
        }
      ]
    },
    {
      "cell_type": "code",
      "source": [
        "data['Open']"
      ],
      "metadata": {
        "colab": {
          "base_uri": "https://localhost:8080/"
        },
        "id": "CI7ggqkjhm-N",
        "outputId": "f3efdb5c-f25f-4f21-ec72-31312a70e4e6"
      },
      "execution_count": 111,
      "outputs": [
        {
          "output_type": "execute_result",
          "data": {
            "text/plain": [
              "0       1667.2\n",
              "1       1668.8\n",
              "2       1657.7\n",
              "3       1654.5\n",
              "4       1662.9\n",
              "         ...  \n",
              "2542    1685.4\n",
              "2543    1676.7\n",
              "2544    1715.6\n",
              "2545    1720.4\n",
              "2546    1710.3\n",
              "Name: Open, Length: 2547, dtype: float64"
            ]
          },
          "metadata": {},
          "execution_count": 111
        }
      ]
    },
    {
      "cell_type": "code",
      "source": [
        "data['Open'].value_counts()"
      ],
      "metadata": {
        "colab": {
          "base_uri": "https://localhost:8080/"
        },
        "id": "gwXNsUFAhm6Q",
        "outputId": "abe7dd77-88ef-4e3a-fa55-633df167779b"
      },
      "execution_count": 112,
      "outputs": [
        {
          "output_type": "execute_result",
          "data": {
            "text/plain": [
              "1321.0    6\n",
              "1318.0    5\n",
              "1296.0    5\n",
              "1325.0    5\n",
              "1241.8    4\n",
              "         ..\n",
              "1483.2    1\n",
              "1475.0    1\n",
              "1464.1    1\n",
              "1460.7    1\n",
              "1710.3    1\n",
              "Name: Open, Length: 2013, dtype: int64"
            ]
          },
          "metadata": {},
          "execution_count": 112
        }
      ]
    },
    {
      "cell_type": "code",
      "source": [
        "data['Open'].value_counts()/np.float(len(data))"
      ],
      "metadata": {
        "colab": {
          "base_uri": "https://localhost:8080/"
        },
        "id": "1Drdh8rChm2V",
        "outputId": "280a3180-9e1c-4907-bba6-55e578f24913"
      },
      "execution_count": 113,
      "outputs": [
        {
          "output_type": "stream",
          "name": "stderr",
          "text": [
            "<ipython-input-113-58b80175b8b9>:1: DeprecationWarning: `np.float` is a deprecated alias for the builtin `float`. To silence this warning, use `float` by itself. Doing this will not modify any behavior and is safe. If you specifically wanted the numpy scalar type, use `np.float64` here.\n",
            "Deprecated in NumPy 1.20; for more details and guidance: https://numpy.org/devdocs/release/1.20.0-notes.html#deprecations\n",
            "  data['Open'].value_counts()/np.float(len(data))\n"
          ]
        },
        {
          "output_type": "execute_result",
          "data": {
            "text/plain": [
              "1321.0    0.002356\n",
              "1318.0    0.001963\n",
              "1296.0    0.001963\n",
              "1325.0    0.001963\n",
              "1241.8    0.001570\n",
              "            ...   \n",
              "1483.2    0.000393\n",
              "1475.0    0.000393\n",
              "1464.1    0.000393\n",
              "1460.7    0.000393\n",
              "1710.3    0.000393\n",
              "Name: Open, Length: 2013, dtype: float64"
            ]
          },
          "metadata": {},
          "execution_count": 113
        }
      ]
    },
    {
      "cell_type": "code",
      "source": [
        "X=data.drop('Close/Last', axis=1)\n",
        "y=data['Close/Last']"
      ],
      "metadata": {
        "id": "2On-dXbWhmyr"
      },
      "execution_count": 114,
      "outputs": []
    },
    {
      "cell_type": "code",
      "source": [
        "X.shape"
      ],
      "metadata": {
        "colab": {
          "base_uri": "https://localhost:8080/"
        },
        "id": "jy_atXrThmvC",
        "outputId": "909015d8-4b94-4036-a91c-92d626bac17d"
      },
      "execution_count": 115,
      "outputs": [
        {
          "output_type": "execute_result",
          "data": {
            "text/plain": [
              "(2547, 6)"
            ]
          },
          "metadata": {},
          "execution_count": 115
        }
      ]
    },
    {
      "cell_type": "code",
      "source": [
        "y.shape"
      ],
      "metadata": {
        "colab": {
          "base_uri": "https://localhost:8080/"
        },
        "id": "oUBI8iNahmrO",
        "outputId": "57a6a9c6-15d1-403f-c72e-08ce288c0d62"
      },
      "execution_count": 116,
      "outputs": [
        {
          "output_type": "execute_result",
          "data": {
            "text/plain": [
              "(2547,)"
            ]
          },
          "metadata": {},
          "execution_count": 116
        }
      ]
    },
    {
      "cell_type": "code",
      "source": [
        "from sklearn.model_selection import train_test_split\n",
        "X_train, X_test, y_train, y_test=train_test_split(X,y,test_size=0.2, random_state=0)"
      ],
      "metadata": {
        "id": "ZeFWa0Bghmnc"
      },
      "execution_count": 117,
      "outputs": []
    },
    {
      "cell_type": "code",
      "source": [
        "X_train.shape"
      ],
      "metadata": {
        "colab": {
          "base_uri": "https://localhost:8080/"
        },
        "id": "lvu7tCAeiunp",
        "outputId": "a351395f-aba8-436c-ddcc-de0150e05943"
      },
      "execution_count": 118,
      "outputs": [
        {
          "output_type": "execute_result",
          "data": {
            "text/plain": [
              "(2037, 6)"
            ]
          },
          "metadata": {},
          "execution_count": 118
        }
      ]
    },
    {
      "cell_type": "code",
      "source": [
        "X_test.shape"
      ],
      "metadata": {
        "colab": {
          "base_uri": "https://localhost:8080/"
        },
        "id": "EnmxghcBiukU",
        "outputId": "86af0661-d0df-4969-b319-07f658243e03"
      },
      "execution_count": 119,
      "outputs": [
        {
          "output_type": "execute_result",
          "data": {
            "text/plain": [
              "(510, 6)"
            ]
          },
          "metadata": {},
          "execution_count": 119
        }
      ]
    },
    {
      "cell_type": "code",
      "source": [
        "y_train.shape"
      ],
      "metadata": {
        "colab": {
          "base_uri": "https://localhost:8080/"
        },
        "id": "dCxktb3aiueZ",
        "outputId": "e5cfbef9-f886-4adb-8af1-0efd8e00c14b"
      },
      "execution_count": 120,
      "outputs": [
        {
          "output_type": "execute_result",
          "data": {
            "text/plain": [
              "(2037,)"
            ]
          },
          "metadata": {},
          "execution_count": 120
        }
      ]
    },
    {
      "cell_type": "code",
      "source": [
        "y_test.shape"
      ],
      "metadata": {
        "colab": {
          "base_uri": "https://localhost:8080/"
        },
        "id": "NXyBx64UiubI",
        "outputId": "62d66080-7d44-4582-903d-c35b1fd605aa"
      },
      "execution_count": 121,
      "outputs": [
        {
          "output_type": "execute_result",
          "data": {
            "text/plain": [
              "(510,)"
            ]
          },
          "metadata": {},
          "execution_count": 121
        }
      ]
    },
    {
      "cell_type": "code",
      "source": [
        "data.dtypes"
      ],
      "metadata": {
        "colab": {
          "base_uri": "https://localhost:8080/"
        },
        "id": "zhnEQHr1iuXy",
        "outputId": "43d1df6e-e167-4a0f-8fc6-8a8fd2b36d8d"
      },
      "execution_count": 122,
      "outputs": [
        {
          "output_type": "execute_result",
          "data": {
            "text/plain": [
              "Close/Last    float64\n",
              "Open          float64\n",
              "High          float64\n",
              "Low           float64\n",
              "date_year       int64\n",
              "date_month      int64\n",
              "date_day        int64\n",
              "dtype: object"
            ]
          },
          "metadata": {},
          "execution_count": 122
        }
      ]
    },
    {
      "cell_type": "code",
      "source": [
        "from sklearn.linear_model import LinearRegression  \n",
        "model= LinearRegression()  \n",
        "model.fit(X_train, y_train)  "
      ],
      "metadata": {
        "colab": {
          "base_uri": "https://localhost:8080/",
          "height": 75
        },
        "id": "gba2eANpiuUg",
        "outputId": "cb4fcf88-0d5e-4e0e-84a7-603b3a3ba1a5"
      },
      "execution_count": 123,
      "outputs": [
        {
          "output_type": "execute_result",
          "data": {
            "text/plain": [
              "LinearRegression()"
            ],
            "text/html": [
              "<style>#sk-container-id-1 {color: black;background-color: white;}#sk-container-id-1 pre{padding: 0;}#sk-container-id-1 div.sk-toggleable {background-color: white;}#sk-container-id-1 label.sk-toggleable__label {cursor: pointer;display: block;width: 100%;margin-bottom: 0;padding: 0.3em;box-sizing: border-box;text-align: center;}#sk-container-id-1 label.sk-toggleable__label-arrow:before {content: \"▸\";float: left;margin-right: 0.25em;color: #696969;}#sk-container-id-1 label.sk-toggleable__label-arrow:hover:before {color: black;}#sk-container-id-1 div.sk-estimator:hover label.sk-toggleable__label-arrow:before {color: black;}#sk-container-id-1 div.sk-toggleable__content {max-height: 0;max-width: 0;overflow: hidden;text-align: left;background-color: #f0f8ff;}#sk-container-id-1 div.sk-toggleable__content pre {margin: 0.2em;color: black;border-radius: 0.25em;background-color: #f0f8ff;}#sk-container-id-1 input.sk-toggleable__control:checked~div.sk-toggleable__content {max-height: 200px;max-width: 100%;overflow: auto;}#sk-container-id-1 input.sk-toggleable__control:checked~label.sk-toggleable__label-arrow:before {content: \"▾\";}#sk-container-id-1 div.sk-estimator input.sk-toggleable__control:checked~label.sk-toggleable__label {background-color: #d4ebff;}#sk-container-id-1 div.sk-label input.sk-toggleable__control:checked~label.sk-toggleable__label {background-color: #d4ebff;}#sk-container-id-1 input.sk-hidden--visually {border: 0;clip: rect(1px 1px 1px 1px);clip: rect(1px, 1px, 1px, 1px);height: 1px;margin: -1px;overflow: hidden;padding: 0;position: absolute;width: 1px;}#sk-container-id-1 div.sk-estimator {font-family: monospace;background-color: #f0f8ff;border: 1px dotted black;border-radius: 0.25em;box-sizing: border-box;margin-bottom: 0.5em;}#sk-container-id-1 div.sk-estimator:hover {background-color: #d4ebff;}#sk-container-id-1 div.sk-parallel-item::after {content: \"\";width: 100%;border-bottom: 1px solid gray;flex-grow: 1;}#sk-container-id-1 div.sk-label:hover label.sk-toggleable__label {background-color: #d4ebff;}#sk-container-id-1 div.sk-serial::before {content: \"\";position: absolute;border-left: 1px solid gray;box-sizing: border-box;top: 0;bottom: 0;left: 50%;z-index: 0;}#sk-container-id-1 div.sk-serial {display: flex;flex-direction: column;align-items: center;background-color: white;padding-right: 0.2em;padding-left: 0.2em;position: relative;}#sk-container-id-1 div.sk-item {position: relative;z-index: 1;}#sk-container-id-1 div.sk-parallel {display: flex;align-items: stretch;justify-content: center;background-color: white;position: relative;}#sk-container-id-1 div.sk-item::before, #sk-container-id-1 div.sk-parallel-item::before {content: \"\";position: absolute;border-left: 1px solid gray;box-sizing: border-box;top: 0;bottom: 0;left: 50%;z-index: -1;}#sk-container-id-1 div.sk-parallel-item {display: flex;flex-direction: column;z-index: 1;position: relative;background-color: white;}#sk-container-id-1 div.sk-parallel-item:first-child::after {align-self: flex-end;width: 50%;}#sk-container-id-1 div.sk-parallel-item:last-child::after {align-self: flex-start;width: 50%;}#sk-container-id-1 div.sk-parallel-item:only-child::after {width: 0;}#sk-container-id-1 div.sk-dashed-wrapped {border: 1px dashed gray;margin: 0 0.4em 0.5em 0.4em;box-sizing: border-box;padding-bottom: 0.4em;background-color: white;}#sk-container-id-1 div.sk-label label {font-family: monospace;font-weight: bold;display: inline-block;line-height: 1.2em;}#sk-container-id-1 div.sk-label-container {text-align: center;}#sk-container-id-1 div.sk-container {/* jupyter's `normalize.less` sets `[hidden] { display: none; }` but bootstrap.min.css set `[hidden] { display: none !important; }` so we also need the `!important` here to be able to override the default hidden behavior on the sphinx rendered scikit-learn.org. See: https://github.com/scikit-learn/scikit-learn/issues/21755 */display: inline-block !important;position: relative;}#sk-container-id-1 div.sk-text-repr-fallback {display: none;}</style><div id=\"sk-container-id-1\" class=\"sk-top-container\"><div class=\"sk-text-repr-fallback\"><pre>LinearRegression()</pre><b>In a Jupyter environment, please rerun this cell to show the HTML representation or trust the notebook. <br />On GitHub, the HTML representation is unable to render, please try loading this page with nbviewer.org.</b></div><div class=\"sk-container\" hidden><div class=\"sk-item\"><div class=\"sk-estimator sk-toggleable\"><input class=\"sk-toggleable__control sk-hidden--visually\" id=\"sk-estimator-id-1\" type=\"checkbox\" checked><label for=\"sk-estimator-id-1\" class=\"sk-toggleable__label sk-toggleable__label-arrow\">LinearRegression</label><div class=\"sk-toggleable__content\"><pre>LinearRegression()</pre></div></div></div></div></div>"
            ]
          },
          "metadata": {},
          "execution_count": 123
        }
      ]
    },
    {
      "cell_type": "code",
      "source": [
        "from sklearn.metrics import confusion_matrix\n",
        "y_pred = model.predict(X_test)\n",
        "y_pred"
      ],
      "metadata": {
        "colab": {
          "base_uri": "https://localhost:8080/"
        },
        "id": "rLvP9X9RiuQ4",
        "outputId": "bcd02cee-bc8c-4ac5-93c3-63ec39b4820f"
      },
      "execution_count": 125,
      "outputs": [
        {
          "output_type": "execute_result",
          "data": {
            "text/plain": [
              "array([1331.58886056, 1733.75960144, 1283.94219323, 1273.47526702,\n",
              "       1344.51637512, 1799.96790316, 1329.62970864, 1993.68508429,\n",
              "       1272.91463379, 1258.21471597, 1321.21470005, 1730.94995465,\n",
              "       1824.56107862, 1162.77035932, 1285.78418153, 1314.65189529,\n",
              "       1737.44117163, 1286.17638722, 1745.57897526, 1291.07205994,\n",
              "       1223.07281814, 1806.775494  , 1293.89138522, 1466.67377877,\n",
              "       1465.86595734, 1154.78646016, 1515.09503049, 1229.79828327,\n",
              "       1094.22983986, 1328.7798405 , 1201.06031548, 1117.03238106,\n",
              "       1355.27369632, 1169.37996341, 1143.09027563, 1718.30825625,\n",
              "       1847.74034127, 1299.7533135 , 1562.35031384, 1220.70047968,\n",
              "       1287.20521041, 1258.82554719, 1274.99721392, 1306.45384786,\n",
              "       1238.36759546, 2054.43997434, 1720.51409974, 1838.38501715,\n",
              "       1246.37146745, 1724.22293782, 1281.71686265, 1226.62599656,\n",
              "       1834.57468329, 1297.55771621, 1091.95163305, 1378.73964679,\n",
              "       1580.4552682 , 1286.18182454, 1336.15508513, 1211.02711575,\n",
              "       1797.26598069, 1237.79552902, 1247.03418279, 1512.39620355,\n",
              "       1238.19010222, 1263.26715296, 1299.35059344, 1091.01152741,\n",
              "       1213.83126947, 1302.51427932, 1314.21486053, 1341.51258429,\n",
              "       1155.05975551, 1600.19595614, 1355.76816346, 1241.06568797,\n",
              "       1787.71994305, 1371.10202654, 1328.43038233, 1692.72474219,\n",
              "       1261.78255804, 1805.74846114, 1841.36205869, 1275.20305468,\n",
              "       1121.22972162, 1724.10312497, 1197.76621231, 1808.95994141,\n",
              "       1261.7435959 , 1292.36459423, 1646.32823497, 1218.83778204,\n",
              "       1314.64254773, 1292.04043478, 1246.84886659, 1653.82915646,\n",
              "       1254.70584513, 1206.49857021, 1295.21925886, 1409.28181672,\n",
              "       1648.25946527, 1788.95269111, 1305.81421555, 1222.55677293,\n",
              "       1222.59192195, 1276.6928013 , 1842.18480076, 1269.11048704,\n",
              "       1469.02194153, 1062.03946342, 1124.77547568, 1302.24020664,\n",
              "       1243.07699922, 1464.97444676, 1580.30584358, 1200.66287363,\n",
              "       1316.164176  , 1351.86500203, 1249.39837165, 1264.54698702,\n",
              "       1866.82583921, 1201.00472237, 1338.74866089, 1164.68729091,\n",
              "       1301.83302272, 1317.69493589, 1275.27314494, 1233.6975137 ,\n",
              "       1185.59460217, 1202.85576339, 1705.53722469, 1875.62143206,\n",
              "       1331.0654358 , 1324.96633716, 1202.62467332, 1087.12894914,\n",
              "       1514.33025324, 1953.07824672, 1259.19499548, 1365.83941525,\n",
              "       1688.04185821, 1272.45934965, 1184.70681321, 1831.64320002,\n",
              "       1312.60802037, 1528.31935703, 1843.20243949, 1659.81845248,\n",
              "       1315.92095861, 1321.32854219, 1924.3209398 , 1414.86015049,\n",
              "       1205.53736627, 1846.20146557, 1946.75318435, 1232.3857639 ,\n",
              "       1219.35564261, 1828.261179  , 1299.29740784, 1286.58542154,\n",
              "       1749.81735203, 1187.14327226, 1170.67299071, 1750.52851554,\n",
              "       1345.57940168, 1727.11712128, 1258.2205675 , 1296.72618316,\n",
              "       1828.82873679, 1256.94544462, 1255.12923649, 1206.03006708,\n",
              "       1794.81438104, 1336.96100711, 1321.80928589, 1308.82739637,\n",
              "       1651.04713154, 1328.632917  , 1283.72029582, 1270.32041543,\n",
              "       1191.89092645, 1240.92481999, 1318.52452836, 1681.77906804,\n",
              "       1254.81168088, 2070.51606719, 1390.9254359 , 1566.21754576,\n",
              "       1266.15367076, 1228.59951655, 1089.06835075, 1201.23706365,\n",
              "       1208.56220459, 1226.57559608, 1728.66848459, 1724.15258481,\n",
              "       1751.89990429, 1063.78353883, 1864.26336977, 1878.02627232,\n",
              "       1286.50416677, 1963.57497914, 1362.28228281, 1329.73377868,\n",
              "       1293.27543738, 1289.86113015, 1204.16692654, 1260.58735129,\n",
              "       1432.04487445, 1719.02319187, 1071.35834979, 1758.62769213,\n",
              "       1315.17749463, 1667.07314786, 1284.70519449, 1350.92660491,\n",
              "       1232.71511356, 1849.3997081 , 1169.9524247 , 1806.32236096,\n",
              "       1285.66526972, 1327.94634214, 1227.88566152, 1779.37067563,\n",
              "       1476.41197511, 1145.98782425, 1915.42466862, 1321.53373545,\n",
              "       1089.45310719, 1707.05727301, 1313.56557026, 1321.98936402,\n",
              "       1908.49098278, 1167.29392124, 1232.11857588, 1268.49292427,\n",
              "       1078.58862605, 1327.28616449, 1748.74170119, 1258.71699823,\n",
              "       1172.13907953, 1388.58046338, 1143.5869683 , 1215.85422941,\n",
              "       1198.30995307, 1362.85522342, 1304.1513642 , 1639.25350185,\n",
              "       1171.59959496, 1361.60056403, 1243.1321419 , 1127.28956701,\n",
              "       1185.93422616, 1235.93685886, 1816.15008994, 1209.06368104,\n",
              "       1569.50196114, 1334.6925961 , 1449.87799121, 1233.77307328,\n",
              "       1568.76212461, 1552.23227389, 1810.20854162, 1439.01663494,\n",
              "       1262.57840854, 1801.1572066 , 1812.87685974, 1420.27156022,\n",
              "       1582.59449065, 1889.43803881, 1315.58992149, 1122.3916773 ,\n",
              "       1178.92886466, 1806.0893834 , 1260.78041817, 1312.36542424,\n",
              "       1673.41904005, 1806.27936231, 1592.71392313, 1469.73045834,\n",
              "       1199.99429214, 1146.57961202, 1200.33789016, 1127.52693359,\n",
              "       1195.00554266, 1304.03818509, 1173.41988012, 1281.2755452 ,\n",
              "       1256.5273805 , 1494.34125177, 1298.80825614, 1254.05907624,\n",
              "       1910.27084019, 1216.21693494, 1278.10301181, 1114.45229889,\n",
              "       1409.50678623, 1352.18470619, 1594.72720425, 1179.13546697,\n",
              "       1056.74999087, 1273.33307448, 1382.89055611, 1187.23737906,\n",
              "       1746.46124129, 1196.18644965, 1462.2548248 , 1318.62115683,\n",
              "       1790.90505652, 1945.2821921 , 1280.51217168, 1893.8087623 ,\n",
              "       1684.75659256, 1197.92243266, 1296.53405352, 1269.08708998,\n",
              "       1252.73617477, 1794.23857545, 1727.21902235, 1572.46141612,\n",
              "       1701.33757126, 1300.63140787, 1234.52125733, 1281.4036918 ,\n",
              "       1188.80491504, 1283.68513404, 1661.5925475 , 1546.61516374,\n",
              "       1272.44704121, 1174.4851003 , 1582.77263248, 1103.8768383 ,\n",
              "       1730.30123083, 1874.92962435, 1513.11554877, 1224.17592523,\n",
              "       1137.94398347, 1782.15838538, 1644.02200202, 1229.30316091,\n",
              "       1645.46070615, 1945.39348529, 1283.08879674, 1307.49845546,\n",
              "       1804.01990293, 1848.63493647, 1709.08477316, 1598.87882048,\n",
              "       1516.14498474, 1324.69898238, 1748.49986851, 1278.58935001,\n",
              "       1244.20030858, 1209.27198345, 1501.7630055 , 1229.54556072,\n",
              "       1265.57500651, 1367.71254905, 1821.40636645, 1172.33319984,\n",
              "       1768.14774919, 1990.97646321, 1481.8305279 , 1434.26833239,\n",
              "       1584.64666731, 1135.90349186, 1280.49944318, 1865.05626117,\n",
              "       1206.55904865, 1292.76967784, 1673.91511957, 1370.69293037,\n",
              "       1513.19160727, 1310.47541248, 1850.18020537, 1703.50954684,\n",
              "       1198.91678981, 1288.18708228, 1287.85884041, 1155.80234215,\n",
              "       1290.18181221, 1252.93753469, 1264.12595596, 1241.00973976,\n",
              "       1713.62082589, 1237.33908635, 1209.61299786, 1212.27130764,\n",
              "       1179.19365125, 2009.75288988, 1200.29780851, 1898.086387  ,\n",
              "       1218.75161327, 1317.51165441, 1216.96001843, 1310.68645879,\n",
              "       1206.95464368, 1641.14395935, 1249.71498684, 1236.7073158 ,\n",
              "       1384.78560492, 1489.70735301, 1297.6156134 , 1769.96877041,\n",
              "       1283.84104872, 1232.31220148, 1131.24949838, 1335.2087518 ,\n",
              "       1822.14882839, 1722.58681999, 1294.80763204, 1333.17430659,\n",
              "       1240.26759893, 1499.236433  , 1930.05134277, 1838.79634274,\n",
              "       1260.18110802, 1247.47424682, 1075.77102353, 1963.2081783 ,\n",
              "       1660.53379329, 1718.50747994, 1716.54393547, 1805.16124744,\n",
              "       1864.66752262, 1578.93978882, 1265.12978131, 1198.18691919,\n",
              "       1176.89368429, 1979.33745367, 1331.2443624 , 1315.89576286,\n",
              "       1141.44997696, 1208.5432556 , 1339.5065747 , 1266.97341242,\n",
              "       1249.11927782, 1310.64608545, 1816.77561829, 1299.24211491,\n",
              "       1297.10446325, 1151.74707354, 1307.62066281, 1605.06476722,\n",
              "       1290.27832343, 1234.33272398, 1165.11423105, 1192.107247  ,\n",
              "       1239.92424799, 1869.35766342, 1173.67547392, 1277.5644121 ,\n",
              "       1520.86052279, 1834.48541851, 1555.64380496, 1222.59512611,\n",
              "       1753.24029521, 1776.14055373, 1774.53383114, 1201.94381977,\n",
              "       1231.37598642, 1718.47871631, 1800.14151296, 1179.69061131,\n",
              "       1226.72567714, 1517.09527636, 1676.44171015, 1803.59085655,\n",
              "       1065.13442904, 1726.82702686, 1828.09173958, 1406.75319662,\n",
              "       1217.71167748, 1074.22733523, 1910.51358345, 1279.68211681,\n",
              "       1318.45331183, 1234.22389214, 1935.06198969, 1848.49775359,\n",
              "       1280.71788598, 1077.68677856, 1284.95264895, 1249.80485884,\n",
              "       1666.26011316, 1777.30944835, 1725.894173  , 1725.0411113 ,\n",
              "       1181.27337949, 1250.37786909, 1861.00218866, 1277.09144087,\n",
              "       1263.07615884, 1086.54508047, 1261.36115485, 1077.06936572,\n",
              "       1790.50214317, 1265.10658002, 1180.74935003, 1453.92850511,\n",
              "       1304.98437271, 1112.3952378 , 1963.66102523, 1311.41933014,\n",
              "       1321.90669636, 1440.75012847, 1226.04215443, 1287.06712708,\n",
              "       1315.22452723, 1145.48317207])"
            ]
          },
          "metadata": {},
          "execution_count": 125
        }
      ]
    },
    {
      "cell_type": "code",
      "source": [
        "accuracy=model.score(X_test, y_test)*100"
      ],
      "metadata": {
        "id": "E9N_7tDzowLP"
      },
      "execution_count": 128,
      "outputs": []
    },
    {
      "cell_type": "markdown",
      "source": [
        "**ACCURACY RATE**"
      ],
      "metadata": {
        "id": "7DQZ8VL0uW_U"
      }
    },
    {
      "cell_type": "code",
      "source": [
        "accuracy"
      ],
      "metadata": {
        "colab": {
          "base_uri": "https://localhost:8080/"
        },
        "id": "_2QhrQIsoX2i",
        "outputId": "1fdbe3fe-76c9-49ca-90ad-8eea15b20a41"
      },
      "execution_count": 129,
      "outputs": [
        {
          "output_type": "execute_result",
          "data": {
            "text/plain": [
              "99.945999483106"
            ]
          },
          "metadata": {},
          "execution_count": 129
        }
      ]
    },
    {
      "cell_type": "code",
      "source": [
        "data.head(5)"
      ],
      "metadata": {
        "colab": {
          "base_uri": "https://localhost:8080/",
          "height": 206
        },
        "id": "jWrPR_8rtBJb",
        "outputId": "f1e74ad6-28f0-48fd-825b-34a1253603ea"
      },
      "execution_count": 139,
      "outputs": [
        {
          "output_type": "execute_result",
          "data": {
            "text/plain": [
              "   Close/Last    Open    High     Low  date_year  date_month  date_day\n",
              "0      1648.3  1667.2  1670.9  1640.7       2022          10        28\n",
              "1      1668.8  1668.8  1674.8  1658.5       2022          10        27\n",
              "2      1669.2  1657.7  1679.4  1653.8       2022          10        26\n",
              "3      1658.0  1654.5  1666.8  1641.2       2022          10        25\n",
              "4      1654.1  1662.9  1675.5  1648.0       2022          10        24"
            ],
            "text/html": [
              "\n",
              "  <div id=\"df-33bce479-1a40-4cf8-b9f9-d8429f5ba514\">\n",
              "    <div class=\"colab-df-container\">\n",
              "      <div>\n",
              "<style scoped>\n",
              "    .dataframe tbody tr th:only-of-type {\n",
              "        vertical-align: middle;\n",
              "    }\n",
              "\n",
              "    .dataframe tbody tr th {\n",
              "        vertical-align: top;\n",
              "    }\n",
              "\n",
              "    .dataframe thead th {\n",
              "        text-align: right;\n",
              "    }\n",
              "</style>\n",
              "<table border=\"1\" class=\"dataframe\">\n",
              "  <thead>\n",
              "    <tr style=\"text-align: right;\">\n",
              "      <th></th>\n",
              "      <th>Close/Last</th>\n",
              "      <th>Open</th>\n",
              "      <th>High</th>\n",
              "      <th>Low</th>\n",
              "      <th>date_year</th>\n",
              "      <th>date_month</th>\n",
              "      <th>date_day</th>\n",
              "    </tr>\n",
              "  </thead>\n",
              "  <tbody>\n",
              "    <tr>\n",
              "      <th>0</th>\n",
              "      <td>1648.3</td>\n",
              "      <td>1667.2</td>\n",
              "      <td>1670.9</td>\n",
              "      <td>1640.7</td>\n",
              "      <td>2022</td>\n",
              "      <td>10</td>\n",
              "      <td>28</td>\n",
              "    </tr>\n",
              "    <tr>\n",
              "      <th>1</th>\n",
              "      <td>1668.8</td>\n",
              "      <td>1668.8</td>\n",
              "      <td>1674.8</td>\n",
              "      <td>1658.5</td>\n",
              "      <td>2022</td>\n",
              "      <td>10</td>\n",
              "      <td>27</td>\n",
              "    </tr>\n",
              "    <tr>\n",
              "      <th>2</th>\n",
              "      <td>1669.2</td>\n",
              "      <td>1657.7</td>\n",
              "      <td>1679.4</td>\n",
              "      <td>1653.8</td>\n",
              "      <td>2022</td>\n",
              "      <td>10</td>\n",
              "      <td>26</td>\n",
              "    </tr>\n",
              "    <tr>\n",
              "      <th>3</th>\n",
              "      <td>1658.0</td>\n",
              "      <td>1654.5</td>\n",
              "      <td>1666.8</td>\n",
              "      <td>1641.2</td>\n",
              "      <td>2022</td>\n",
              "      <td>10</td>\n",
              "      <td>25</td>\n",
              "    </tr>\n",
              "    <tr>\n",
              "      <th>4</th>\n",
              "      <td>1654.1</td>\n",
              "      <td>1662.9</td>\n",
              "      <td>1675.5</td>\n",
              "      <td>1648.0</td>\n",
              "      <td>2022</td>\n",
              "      <td>10</td>\n",
              "      <td>24</td>\n",
              "    </tr>\n",
              "  </tbody>\n",
              "</table>\n",
              "</div>\n",
              "      <button class=\"colab-df-convert\" onclick=\"convertToInteractive('df-33bce479-1a40-4cf8-b9f9-d8429f5ba514')\"\n",
              "              title=\"Convert this dataframe to an interactive table.\"\n",
              "              style=\"display:none;\">\n",
              "        \n",
              "  <svg xmlns=\"http://www.w3.org/2000/svg\" height=\"24px\"viewBox=\"0 0 24 24\"\n",
              "       width=\"24px\">\n",
              "    <path d=\"M0 0h24v24H0V0z\" fill=\"none\"/>\n",
              "    <path d=\"M18.56 5.44l.94 2.06.94-2.06 2.06-.94-2.06-.94-.94-2.06-.94 2.06-2.06.94zm-11 1L8.5 8.5l.94-2.06 2.06-.94-2.06-.94L8.5 2.5l-.94 2.06-2.06.94zm10 10l.94 2.06.94-2.06 2.06-.94-2.06-.94-.94-2.06-.94 2.06-2.06.94z\"/><path d=\"M17.41 7.96l-1.37-1.37c-.4-.4-.92-.59-1.43-.59-.52 0-1.04.2-1.43.59L10.3 9.45l-7.72 7.72c-.78.78-.78 2.05 0 2.83L4 21.41c.39.39.9.59 1.41.59.51 0 1.02-.2 1.41-.59l7.78-7.78 2.81-2.81c.8-.78.8-2.07 0-2.86zM5.41 20L4 18.59l7.72-7.72 1.47 1.35L5.41 20z\"/>\n",
              "  </svg>\n",
              "      </button>\n",
              "      \n",
              "  <style>\n",
              "    .colab-df-container {\n",
              "      display:flex;\n",
              "      flex-wrap:wrap;\n",
              "      gap: 12px;\n",
              "    }\n",
              "\n",
              "    .colab-df-convert {\n",
              "      background-color: #E8F0FE;\n",
              "      border: none;\n",
              "      border-radius: 50%;\n",
              "      cursor: pointer;\n",
              "      display: none;\n",
              "      fill: #1967D2;\n",
              "      height: 32px;\n",
              "      padding: 0 0 0 0;\n",
              "      width: 32px;\n",
              "    }\n",
              "\n",
              "    .colab-df-convert:hover {\n",
              "      background-color: #E2EBFA;\n",
              "      box-shadow: 0px 1px 2px rgba(60, 64, 67, 0.3), 0px 1px 3px 1px rgba(60, 64, 67, 0.15);\n",
              "      fill: #174EA6;\n",
              "    }\n",
              "\n",
              "    [theme=dark] .colab-df-convert {\n",
              "      background-color: #3B4455;\n",
              "      fill: #D2E3FC;\n",
              "    }\n",
              "\n",
              "    [theme=dark] .colab-df-convert:hover {\n",
              "      background-color: #434B5C;\n",
              "      box-shadow: 0px 1px 3px 1px rgba(0, 0, 0, 0.15);\n",
              "      filter: drop-shadow(0px 1px 2px rgba(0, 0, 0, 0.3));\n",
              "      fill: #FFFFFF;\n",
              "    }\n",
              "  </style>\n",
              "\n",
              "      <script>\n",
              "        const buttonEl =\n",
              "          document.querySelector('#df-33bce479-1a40-4cf8-b9f9-d8429f5ba514 button.colab-df-convert');\n",
              "        buttonEl.style.display =\n",
              "          google.colab.kernel.accessAllowed ? 'block' : 'none';\n",
              "\n",
              "        async function convertToInteractive(key) {\n",
              "          const element = document.querySelector('#df-33bce479-1a40-4cf8-b9f9-d8429f5ba514');\n",
              "          const dataTable =\n",
              "            await google.colab.kernel.invokeFunction('convertToInteractive',\n",
              "                                                     [key], {});\n",
              "          if (!dataTable) return;\n",
              "\n",
              "          const docLinkHtml = 'Like what you see? Visit the ' +\n",
              "            '<a target=\"_blank\" href=https://colab.research.google.com/notebooks/data_table.ipynb>data table notebook</a>'\n",
              "            + ' to learn more about interactive tables.';\n",
              "          element.innerHTML = '';\n",
              "          dataTable['output_type'] = 'display_data';\n",
              "          await google.colab.output.renderOutput(dataTable, element);\n",
              "          const docLink = document.createElement('div');\n",
              "          docLink.innerHTML = docLinkHtml;\n",
              "          element.appendChild(docLink);\n",
              "        }\n",
              "      </script>\n",
              "    </div>\n",
              "  </div>\n",
              "  "
            ]
          },
          "metadata": {},
          "execution_count": 139
        }
      ]
    },
    {
      "cell_type": "code",
      "source": [
        "input_data = (1620,1700.4,1590.6,2030,10,10)\n",
        "\n",
        "# change the input data to a numpy array\n",
        "input_data_as_numpy_array= np.asarray(input_data)\n",
        "\n",
        "# reshape the numpy array as we are predicting for only on instance\n",
        "input_data_reshaped = input_data_as_numpy_array.reshape(1,-1)\n",
        "\n",
        "prediction = model.predict(input_data_reshaped)\n",
        "# print(prediction)\n",
        "\n",
        "if (prediction[0]== 0):\n",
        "  print('No valid Values')\n",
        "else:\n",
        "  print(prediction)"
      ],
      "metadata": {
        "colab": {
          "base_uri": "https://localhost:8080/"
        },
        "id": "vRf6yZ_csBe3",
        "outputId": "0ac04407-df8f-4bfa-ecb0-649ed627b677"
      },
      "execution_count": 144,
      "outputs": [
        {
          "output_type": "stream",
          "name": "stdout",
          "text": [
            "[1655.40359028]\n"
          ]
        },
        {
          "output_type": "stream",
          "name": "stderr",
          "text": [
            "/usr/local/lib/python3.9/dist-packages/sklearn/base.py:439: UserWarning: X does not have valid feature names, but LinearRegression was fitted with feature names\n",
            "  warnings.warn(\n"
          ]
        }
      ]
    },
    {
      "cell_type": "code",
      "source": [],
      "metadata": {
        "id": "8Ggcde0Drf5q"
      },
      "execution_count": null,
      "outputs": []
    }
  ]
}